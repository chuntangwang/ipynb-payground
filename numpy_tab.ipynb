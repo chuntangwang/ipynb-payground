{
 "cells": [
  {
   "cell_type": "markdown",
   "metadata": {},
   "source": [
    "# numpy tabulate playground\n",
    "\n",
    "Following the table of stream specs to calcuate bandwidth cost by numpy array.\n",
    "\n",
    "| Stream    | Low  | Lo-Size | High | Hi-Size  | Count | All Low | All High | Total |\n",
    "| -         | -    | -       | -    | -        | -     | -       | -        | -     |\n",
    "| Stream01  | 340  | 480x270 | 490  | 800x450  | 7     | 2380    | 3430     |       |\n",
    "| Stream02  | 486  | 480x270 | 700  | 800x450  | 1     | 486     | 700      |       |\n",
    "| Stream03  | 462  | 480x270 | 665  | 800x450  | 1     | 462     | 665      |       |\n",
    "| Stream04  | 416  | 480x270 | 576  | 800x450  | 1     | 416     | 576      |       |\n",
    "| Stream05  | 292  | 480x270 | 384  | 800x450  | 1     | 292     | 384      |       |\n",
    "| Stream06  | 448  | 480x270 | 576  | 800x450  | 2     | 896     | 1152     |       |\n",
    "| Stream07  | 486  | 600x210 | 700  | 1000x350 | 1     | 486     | 700      |       |\n",
    "| Stream08  | 486  | 600x210 | 700  | 1000x350 | 1     | 486     | 700      |       |｀\n",
    "| Stream09  | 486  | 600x318 | 700  | 1000x530 | 1     | 486     | 700      |       |\n",
    "| Stream10  | 486  | 600x210 | 700  | 1000x350 | 1     | 486     | 700      |       |\n",
    "| Stream11  | 486  | 658x444 | 700  | 1098x740 | 1     | 486     | 700      |       |\n",
    "| Stream12  | 486  | 248x538 | 700  | 414x896  | 1     | 486     | 700      |       |\n",
    "| Stream13  | -    | -       | 700  | 800x450  | 1     | 0       | 700      |       |\n",
    "| Stream14  | 486  | 600x210 | 700  | 1000x350 | 1     | 486     | 700      |       |\n",
    "| -         | -    | -       | -    | -        | -     | -       | -        | -     |\n",
    "| Total     |      |         |      |          |       | 8334    | 12507    | 20841 |\n",
    "\n",
    "**!! The static table is sample, checking below caculated table !!**"
   ]
  },
  {
   "cell_type": "code",
   "execution_count": 1,
   "metadata": {},
   "outputs": [
    {
     "name": "stdout",
     "output_type": "stream",
     "text": [
      "Collecting numpy\n",
      "  Using cached numpy-2.2.1-cp313-cp313-macosx_14_0_arm64.whl.metadata (62 kB)\n",
      "Using cached numpy-2.2.1-cp313-cp313-macosx_14_0_arm64.whl (5.1 MB)\n",
      "Installing collected packages: numpy\n",
      "Successfully installed numpy-2.2.1\n",
      "Note: you may need to restart the kernel to use updated packages.\n",
      "Collecting tabulate\n",
      "  Using cached tabulate-0.9.0-py3-none-any.whl.metadata (34 kB)\n",
      "Using cached tabulate-0.9.0-py3-none-any.whl (35 kB)\n",
      "Installing collected packages: tabulate\n",
      "Successfully installed tabulate-0.9.0\n",
      "Note: you may need to restart the kernel to use updated packages.\n"
     ]
    }
   ],
   "source": [
    "%pip install numpy\n",
    "%pip install tabulate"
   ]
  },
  {
   "cell_type": "code",
   "execution_count": 2,
   "metadata": {},
   "outputs": [
    {
     "name": "stdout",
     "output_type": "stream",
     "text": [
      "\n",
      "> Updated: 2024/09/10\n",
      "\n",
      "stream      low  lo-size      high  hi-size      count    all_low    all_high\n",
      "--------  -----  ---------  ------  ---------  -------  ---------  ----------\n",
      "Stream01    340  480x270       490  800x450          7       2380        3430\n",
      "Stream02    486  480x270       700  800x450          1        486         700\n",
      "Stream03    462  480x270       665  800x450          1        462         665\n",
      "Stream04    416  480x270       576  800x450          1        416         576\n",
      "Stream05    292  480x270       384  800x450          1        292         384\n",
      "Stream06    448  480x270       576  800x450          2        896        1152\n",
      "Stream07    486  600x210       700  1000x350         1        486         700\n",
      "Stream08    486  600x210       700  1000x350         1        486         700\n",
      "Stream09    486  600x318       700  1000x530         1        486         700\n",
      "Stream10    486  600x210       700  1000x350         1        486         700\n",
      "Stream11    486  658x444       700  1098x740         1        486         700\n",
      "Stream12    486  248x538       700  414x896          1        486         700\n",
      "Stream13      0  None          700  800x450          1          0         700\n",
      "Stream14    486  600x210       700  1000x350         1        486         700\n",
      "\n",
      "            Kbps    Mbps\n",
      "--------  ------  ------\n",
      "all low     8334   8.334\n",
      "all high   12507  12.507\n",
      "--------  ------  ------\n",
      "total      20841  20.841\n",
      "\n"
     ]
    }
   ],
   "source": [
    "import numpy as np\n",
    "from tabulate import tabulate, SEPARATING_LINE\n",
    "\n",
    "headers_dtype = np.dtype([\n",
    "    ('stream', 'U10'),\n",
    "    ('low', 'i4'), ('lo-size', 'U10'),\n",
    "    ('high', 'i4'), ('hi-size', 'U10'),\n",
    "    ('count', 'i4'),\n",
    "    ('all_low', 'i4'), ('all_high', 'i4')])\n",
    "\n",
    "streams = np.array([\n",
    "    ('Stream01' , 340, '480x270' , 490, '800x450' , 7, 0, 0),\n",
    "    ('Stream02' , 486, '480x270' , 700, '800x450' , 1, 0, 0),\n",
    "    ('Stream03' , 462, '480x270' , 665, '800x450' , 1, 0, 0),\n",
    "    ('Stream04' , 416, '480x270' , 576, '800x450' , 1, 0, 0),\n",
    "    ('Stream05' , 292, '480x270' , 384, '800x450' , 1, 0, 0),\n",
    "    ('Stream06' , 448, '480x270' , 576, '800x450' , 2, 0, 0),\n",
    "    ('Stream07' , 486, '600x210' , 700, '1000x350', 1, 0, 0),\n",
    "    ('Stream08' , 486, '600x210' , 700, '1000x350', 1, 0, 0),\n",
    "    ('Stream09' , 486, '600x318' , 700, '1000x530', 1, 0, 0),\n",
    "    ('Stream10' , 486, '600x210' , 700, '1000x350', 1, 0, 0),\n",
    "    ('Stream11' , 486, '658x444' , 700, '1098x740', 1, 0, 0),\n",
    "    ('Stream12' , 486, '248x538' , 700, '414x896' , 1, 0, 0),\n",
    "    ('Stream13' ,   0,  None     , 700, '800x450' , 1, 0, 0),\n",
    "    ('Stream14' , 486, '600x210' , 700, '1000x350', 1, 0, 0),\n",
    "], dtype=headers_dtype)\n",
    "\n",
    "streams['all_low'] = streams['low']  * streams['count']\n",
    "streams['all_high'] = streams['high'] * streams['count']\n",
    "\n",
    "table = tabulate(streams, headers_dtype.fields.keys(), tablefmt='simple')\n",
    "\n",
    "all_low = np.sum([streams['all_low']])\n",
    "all_high = np.sum([streams['all_high']])\n",
    "streams_total = all_low + all_high\n",
    "\n",
    "\n",
    "total_tab = tabulate([['all low', all_low, all_low * 0.001],\n",
    "                      ['all high', all_high, all_high * 0.001],\n",
    "                      SEPARATING_LINE,\n",
    "                      ['total', streams_total, streams_total * 0.001]],\n",
    "                     ['', 'Kbps', 'Mbps'], tablefmt='simple')\n",
    "\n",
    "print(f'''\n",
    "> Updated: 2024/09/10\n",
    "\n",
    "{table}\n",
    "\n",
    "{total_tab}\n",
    "''')"
   ]
  }
 ],
 "metadata": {
  "kernelspec": {
   "display_name": ".venv",
   "language": "python",
   "name": "python3"
  },
  "language_info": {
   "codemirror_mode": {
    "name": "ipython",
    "version": 3
   },
   "file_extension": ".py",
   "mimetype": "text/x-python",
   "name": "python",
   "nbconvert_exporter": "python",
   "pygments_lexer": "ipython3",
   "version": "3.13.1"
  }
 },
 "nbformat": 4,
 "nbformat_minor": 2
}
